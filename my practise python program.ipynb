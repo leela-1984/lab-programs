{
 "cells": [
  {
   "cell_type": "code",
   "execution_count": 1,
   "metadata": {},
   "outputs": [
    {
     "name": "stdout",
     "output_type": "stream",
     "text": [
      "namaskara nan hesuru vishnu!\n"
     ]
    }
   ],
   "source": [
    "#my first notebook\n",
    "print(\"namaskara nan hesuru vishnu!\")"
   ]
  },
  {
   "cell_type": "code",
   "execution_count": 26,
   "metadata": {},
   "outputs": [
    {
     "name": "stdout",
     "output_type": "stream",
     "text": [
      "60\n",
      "100\n",
      "<class 'str'>\n",
      "10 20 30\n"
     ]
    }
   ],
   "source": [
    "a=10\n",
    "b=20\n",
    "c=30\n",
    "print(a+b+c)\n",
    "\n",
    "#if we use \"\" it will become a string \n",
    "s=\"100\"\n",
    "print(s)\n",
    "print(type(s))\n",
    "\n",
    "\n",
    "#variable can start with alpabets or _ but not with numbetrs \n",
    "\n",
    "\n",
    "a,b,c=10,20,30\n",
    "print(a,b,c)"
   ]
  },
  {
   "cell_type": "code",
   "execution_count": 32,
   "metadata": {},
   "outputs": [
    {
     "name": "stdout",
     "output_type": "stream",
     "text": [
      "vishnu 18 True 6.1\n",
      "<class 'int'>\n",
      "18.0\n",
      "<class 'float'>\n",
      "48.0\n",
      "48\n",
      "102\n",
      "98\n",
      "200\n",
      "50.0\n",
      "50\n",
      "0\n",
      "10000\n",
      "316912650057057350374175801444\n"
     ]
    }
   ],
   "source": [
    "name=\"vishnu\" #string by using \"\"\n",
    "age=18 #int\n",
    "is_student= True #bool\n",
    "height=6.1 #float\n",
    "\n",
    "print(name , age ,is_student, height )\n",
    "print(type(age)) #only one variable at a time can be checked of which type\n",
    "\n",
    "#type conversion\n",
    "newage=float(age)\n",
    "print(newage)\n",
    "\n",
    "print(type(newage))\n",
    "\n",
    "s=\"30\"\n",
    "print(float(s)+newage)\n",
    "\n",
    "print(int(s)+int(newage))\n",
    "\n",
    "a=100\n",
    "b=2\n",
    "print(a+b)\n",
    "print(a-b)\n",
    "print(a*b)\n",
    "print(a/b)\n",
    "print(a//b)\n",
    "print(a%b)\n",
    "print(a**b)\n",
    "print(a+b**(a-b))"
   ]
  },
  {
   "cell_type": "code",
   "execution_count": 1,
   "metadata": {},
   "outputs": [
    {
     "name": "stdout",
     "output_type": "stream",
     "text": [
      "20\n",
      "10\n"
     ]
    }
   ],
   "source": [
    "#swapping between two varibale\n",
    "\n",
    "a=10\n",
    "b=20\n",
    "\n",
    "a,b=b,a\n",
    "\n",
    "print(a)\n",
    "print(b)"
   ]
  },
  {
   "cell_type": "code",
   "execution_count": 30,
   "metadata": {},
   "outputs": [
    {
     "name": "stdout",
     "output_type": "stream",
     "text": [
      "\n",
      "List Items: \n",
      "Delhi\n",
      "Kolkata\n",
      "3\n",
      "samantha\n",
      "samyuktha\n",
      "['samantha', 'samyuktha']\n",
      "[5, 6, 7]\n",
      "['t', 'a', 'r', 'u', 'n']\n",
      "3\n",
      "[2, 4, 50, 2, 6, 7, 2]\n",
      "50\n",
      "[4, 2, 6, 7, 2]\n"
     ]
    }
   ],
   "source": [
    "List_city = [\"Delhi\", \"Mumbai\", \"Kolkata\"] \n",
    "print(\"\\nList Items: \")\n",
    "print(List_city[0]) # Index 0 \n",
    "print(List_city[2]) # index 2\n",
    "\n",
    "jd=[\"samantha\", \"anderia\", \"samyuktha\"]\n",
    "print(len(jd)) #list length\n",
    "print(jd[0]) #list slicliing\n",
    "print(jd[-1]) #negavtive indexing\n",
    "jd.remove(\"anderia\") #remove function\n",
    "print(jd)\n",
    "\n",
    "vish=[1, 2, 3, 4, 5, 6, 7] #iteration\n",
    "for i in range(1,5):\n",
    "    vish.remove(i)\n",
    "print(vish)\n",
    "\n",
    "jd=list(\"tarun\") #list operation Converts an iterable (tuple ,string, set, dictionary) to a list. For example consider the following code.\n",
    "print(jd)\n",
    "\n",
    "ListA = [2, 4, 2, 6, 7, 2]\n",
    "print(ListA.count(2)) #counts no. of times element appears \n",
    "ListA.insert(2,50) #Insert object at specific index \n",
    "print(ListA)\n",
    "print(ListA.pop(2)) #Removes an element at the specified index \n",
    "ListA.remove(2) #removes or deletes and element from the list \n",
    "print(ListA)"
   ]
  }
 ],
 "metadata": {
  "kernelspec": {
   "display_name": "Python 3",
   "language": "python",
   "name": "python3"
  },
  "language_info": {
   "codemirror_mode": {
    "name": "ipython",
    "version": 3
   },
   "file_extension": ".py",
   "mimetype": "text/x-python",
   "name": "python",
   "nbconvert_exporter": "python",
   "pygments_lexer": "ipython3",
   "version": "3.12.8"
  }
 },
 "nbformat": 4,
 "nbformat_minor": 2
}
